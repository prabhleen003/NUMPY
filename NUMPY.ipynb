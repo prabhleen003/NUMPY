{
 "cells": [
  {
   "cell_type": "markdown",
   "id": "1f6f92d4-92f5-4bda-8638-a5d0a72308ab",
   "metadata": {},
   "source": [
    "import numpy as np"
   ]
  },
  {
   "cell_type": "code",
   "execution_count": 3,
   "id": "1b0b226b-68ef-45c9-a88d-983b25030084",
   "metadata": {},
   "outputs": [],
   "source": [
    "import numpy as np"
   ]
  },
  {
   "cell_type": "code",
   "execution_count": 4,
   "id": "c631a021-9ad2-4394-a46b-a78e4e1cf7f1",
   "metadata": {},
   "outputs": [],
   "source": [
    "# this library is used for numerical computations \n",
    "# numpy defines its own data types suc ha s np.int64 , np.int32 , np .float 64 etc "
   ]
  },
  {
   "cell_type": "code",
   "execution_count": 5,
   "id": "0efca5d6-e115-4676-8b13-76cc80bcbb97",
   "metadata": {},
   "outputs": [
    {
     "name": "stdout",
     "output_type": "stream",
     "text": [
      "[1. 2. 3. 5.]\n",
      "5.0\n",
      "(4,)\n"
     ]
    }
   ],
   "source": [
    "# declaring arrrays \n",
    "# function call is np.array()\n",
    "# the dimensions are stored iun shape()\n",
    "x = np.array([1,2,3,5], dtype=\"float32\")\n",
    "print(x)\n",
    "print(x[3])\n",
    "print(x.shape)\n"
   ]
  },
  {
   "cell_type": "code",
   "execution_count": 6,
   "id": "29429660-108c-42bf-87df-51bdb6dd573f",
   "metadata": {},
   "outputs": [
    {
     "name": "stdout",
     "output_type": "stream",
     "text": [
      "[[1 2 3]\n",
      " [4 5 6]]\n",
      "(2, 3)\n",
      "5\n"
     ]
    }
   ],
   "source": [
    "# two dimensional array accessed using list of lists\n",
    "z = np.array([[1,2,3],[4,5,6]])\n",
    "print(z)\n",
    "print(z.shape)\n",
    "print(z[1,1]) #5"
   ]
  },
  {
   "cell_type": "code",
   "execution_count": 40,
   "id": "0e1dd570-770b-4b56-a0cc-0388e1270521",
   "metadata": {},
   "outputs": [],
   "source": [
    "#three dimensional array returns the shape method as tuples\n",
    "#\n",
    "#"
   ]
  },
  {
   "cell_type": "code",
   "execution_count": 8,
   "id": "d254b595-2354-48d6-81b7-f9466255ba31",
   "metadata": {},
   "outputs": [
    {
     "name": "stdout",
     "output_type": "stream",
     "text": [
      "[-2.  -1.5 -1.  -0.5  0.   0.5  1.   1.5  2. ]\n"
     ]
    }
   ],
   "source": [
    "#evenly spaced one dimensional array \n",
    "g = np.linspace(-2,2,9)\n",
    "#start -2 till 2 9 values \n",
    "print(g)"
   ]
  },
  {
   "cell_type": "code",
   "execution_count": 9,
   "id": "dc6210e0-0d16-4899-9041-c16b0069830b",
   "metadata": {},
   "outputs": [
    {
     "name": "stdout",
     "output_type": "stream",
     "text": [
      "[ 119.61623078   59.36619755 -143.52787632  -98.73548571   26.29077686\n",
      "  -49.36683823   44.98150222 -102.06114108   41.49140876  -27.09955483]\n"
     ]
    }
   ],
   "source": [
    "# 1d array of random numbers \n",
    "e = np.random.normal(10,100,10)\n",
    "print(e)"
   ]
  },
  {
   "cell_type": "code",
   "execution_count": 10,
   "id": "e9995ba9-be00-4b40-aebe-bf2eef82b60e",
   "metadata": {},
   "outputs": [
    {
     "name": "stdout",
     "output_type": "stream",
     "text": [
      "[[0. 0. 0.]\n",
      " [0. 0. 0.]]\n"
     ]
    }
   ],
   "source": [
    "# provided shape create bull array\n",
    "shape = (2,3)\n",
    "i = np.zeros(shape)\n",
    "print(i)"
   ]
  },
  {
   "cell_type": "code",
   "execution_count": 11,
   "id": "98e9494a-8f9d-4b30-be77-14cd365b931d",
   "metadata": {},
   "outputs": [
    {
     "name": "stdout",
     "output_type": "stream",
     "text": [
      "[[1. 1. 1.]\n",
      " [1. 1. 1.]]\n"
     ]
    }
   ],
   "source": [
    "\n",
    "m=np.ones((2,3))\n",
    "print(m)"
   ]
  },
  {
   "cell_type": "code",
   "execution_count": 12,
   "id": "a64f8616-d158-4b66-9df1-8f65db00b37f",
   "metadata": {},
   "outputs": [
    {
     "name": "stdout",
     "output_type": "stream",
     "text": [
      "2 3\n"
     ]
    }
   ],
   "source": [
    "# the shape attribute is a tuple \n",
    "print(m.shape[0],m.shape[1])"
   ]
  },
  {
   "cell_type": "code",
   "execution_count": 16,
   "id": "092e97df-583d-421c-80e7-2ec4cfe9e57e",
   "metadata": {},
   "outputs": [
    {
     "name": "stdout",
     "output_type": "stream",
     "text": [
      "[[1 3 4]]\n",
      "[1 3 4]\n"
     ]
    }
   ],
   "source": [
    "        #reshaping a numpy array \n",
    "j = np.array([[1,3,4]])\n",
    "#ravel funcion converts multidimentional array into single dimension \n",
    "j1D = j.ravel()\n",
    "print(j)\n",
    "print(j1D)\n"
   ]
  },
  {
   "cell_type": "code",
   "execution_count": 17,
   "id": "cc5c0f3c-a0a1-4e85-ad3f-450fed1e9914",
   "metadata": {},
   "outputs": [
    {
     "name": "stdout",
     "output_type": "stream",
     "text": [
      "[1 3 4]\n"
     ]
    }
   ],
   "source": [
    "#reshape function also does the same \n",
    "j2= j.reshape(3,)\n",
    "print(j2)"
   ]
  },
  {
   "cell_type": "code",
   "execution_count": 19,
   "id": "a9a4932c-576d-4aac-ac87-adc4b67f048a",
   "metadata": {},
   "outputs": [
    {
     "name": "stdout",
     "output_type": "stream",
     "text": [
      "[[1 1 1]\n",
      " [3 3 3]\n",
      " [5 5 5]]\n"
     ]
    }
   ],
   "source": [
    "#operations on numpy arrays \n",
    "#addition of two arrays of same dimensions \n",
    "g1= np.array([[1,1,1],[2,2,2],[3,3,3]])\n",
    "g2= np.array([[0,0,0],[1,1,1],[2,2,2]])\n",
    "g3 = g1+g2 #[[1,1,1],[3,3,3],[5,5,5]]\n",
    "print(g3)"
   ]
  },
  {
   "cell_type": "code",
   "execution_count": 21,
   "id": "77ac1fe3-f5b3-46e4-82bc-29ec988dc844",
   "metadata": {},
   "outputs": [
    {
     "name": "stdout",
     "output_type": "stream",
     "text": [
      "[[1.         1.         1.        ]\n",
      " [1.41421356 1.41421356 1.41421356]\n",
      " [1.73205081 1.73205081 1.73205081]]\n"
     ]
    }
   ],
   "source": [
    "# sqrt function \n",
    "g4 = np.sqrt(g1)\n",
    "print(g4)"
   ]
  },
  {
   "cell_type": "code",
   "execution_count": 22,
   "id": "54137ba6-93be-47b5-81eb-a66c21ffbdc9",
   "metadata": {},
   "outputs": [
    {
     "name": "stdout",
     "output_type": "stream",
     "text": [
      "3\n",
      "0\n",
      "18\n"
     ]
    }
   ],
   "source": [
    "#min and max values \n",
    "print(g1.max())\n",
    "print(g2.min())\n",
    "print(g1.sum())"
   ]
  },
  {
   "cell_type": "code",
   "execution_count": 23,
   "id": "069fb932-dd2c-41bb-b406-df5d543c87ab",
   "metadata": {},
   "outputs": [
    {
     "name": "stdout",
     "output_type": "stream",
     "text": [
      "[0 1 2 3 4 5 6 7 8 9]\n"
     ]
    }
   ],
   "source": [
    "\n",
    "g6 = np.arange(10) #arange prints a one dimensional array from 0 to n-1\n",
    "print(g6)"
   ]
  },
  {
   "cell_type": "code",
   "execution_count": 30,
   "id": "581272ec-291f-4ffd-9966-62efb658ab26",
   "metadata": {},
   "outputs": [
    {
     "name": "stdout",
     "output_type": "stream",
     "text": [
      "4.5\n",
      "4.5\n",
      "2.8722813232690143\n"
     ]
    }
   ],
   "source": [
    "#mean median mode \n",
    "#The mean gives the arithmetic mean of the input values.\n",
    "#The median gives the middle values in the given array. Its syntax is given by np.median().\n",
    "#The standard deviation gives us the spread of distribution of array values. Standard deviation is given by the syntax np.std() or numpy.std().\n",
    "#Use the SciPy mode() method to find the number that appears the most:\n",
    "print(np.mean(g6))\n",
    "print(np.median(g6))\n",
    "print(np.std(g6))\n",
    "\n"
   ]
  },
  {
   "cell_type": "code",
   "execution_count": 31,
   "id": "cec25451-8cd4-40ef-8bef-936774399b14",
   "metadata": {},
   "outputs": [
    {
     "name": "stdout",
     "output_type": "stream",
     "text": [
      "[3 6 9]\n"
     ]
    }
   ],
   "source": [
    "# computing along each dimension \n",
    "#axis =1 rows \n",
    "# axis 2 = columns \n",
    "print(np.sum(g1,axis=1))\n"
   ]
  },
  {
   "cell_type": "code",
   "execution_count": 33,
   "id": "96799f4d-041f-4c4a-bb9f-52fe2ebf8019",
   "metadata": {},
   "outputs": [
    {
     "name": "stdout",
     "output_type": "stream",
     "text": [
      "[[ 7 10 13]\n",
      " [ 7 10 13]\n",
      " [15 22 29]]\n"
     ]
    }
   ],
   "source": [
    "#matrix multiploication and matrix inverse \n",
    "#for inverse : square matrix hon achahiye ie shape(x,x)\n",
    "#np.matmul for multipliction \n",
    "g11= np.array([[1,2],[1,2],[3,4]])  #shape(3,2)\n",
    "g12 = np.array([[1,2,3],[3,4,5]])  #shape(2,3)\n",
    "g13 = np.matmul(g11,g12)\n",
    "print(g13) # shape 3,3\n"
   ]
  },
  {
   "cell_type": "code",
   "execution_count": 35,
   "id": "af747b2d-69c0-43e9-a44c-e9dd089781bf",
   "metadata": {},
   "outputs": [
    {
     "name": "stdout",
     "output_type": "stream",
     "text": [
      "0.0\n"
     ]
    }
   ],
   "source": [
    "#inverse \n",
    "zinv = np.linalg.det(g13)\n",
    "print(zinv)\n",
    "#identity matrix \n",
    "#print(np.matmul(g13,zinv)) # determinant is zero so inverse in sot possible as its a single matrix\n"
   ]
  },
  {
   "cell_type": "code",
   "execution_count": 37,
   "id": "e3facc32-eac3-4188-821d-7c1af4a441a8",
   "metadata": {},
   "outputs": [
    {
     "name": "stdout",
     "output_type": "stream",
     "text": [
      "[[ 7  7 15]\n",
      " [10 10 22]\n",
      " [13 13 29]]\n"
     ]
    }
   ],
   "source": [
    "# transpose \n",
    "print(g13.transpose())"
   ]
  },
  {
   "cell_type": "code",
   "execution_count": 39,
   "id": "01e8662a-24a9-4adc-a80f-23512103413f",
   "metadata": {},
   "outputs": [
    {
     "name": "stdout",
     "output_type": "stream",
     "text": [
      "[[ 7 10 13]\n",
      " [ 7 10 13]\n",
      " [15 22 29]]\n"
     ]
    }
   ],
   "source": [
    "# conjugate \n",
    "print(g13.conjugate())"
   ]
  },
  {
   "cell_type": "code",
   "execution_count": null,
   "id": "006eb5ed-8439-4460-8ca7-f6523715962e",
   "metadata": {},
   "outputs": [],
   "source": []
  }
 ],
 "metadata": {
  "kernelspec": {
   "display_name": "Python 3 (ipykernel)",
   "language": "python",
   "name": "python3"
  },
  "language_info": {
   "codemirror_mode": {
    "name": "ipython",
    "version": 3
   },
   "file_extension": ".py",
   "mimetype": "text/x-python",
   "name": "python",
   "nbconvert_exporter": "python",
   "pygments_lexer": "ipython3",
   "version": "3.11.3"
  }
 },
 "nbformat": 4,
 "nbformat_minor": 5
}
